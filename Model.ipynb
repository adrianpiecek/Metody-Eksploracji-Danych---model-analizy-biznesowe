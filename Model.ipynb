{
 "cells": [
  {
   "cell_type": "markdown",
   "id": "649dc660-72ca-4aee-8c3f-fc70566405d8",
   "metadata": {},
   "source": [
    "Import packages for analyzing and visualising data"
   ]
  },
  {
   "cell_type": "code",
   "execution_count": 1,
   "id": "de316c0e-c041-471c-8b89-8b76f26d5f01",
   "metadata": {},
   "outputs": [],
   "source": [
    "import numpy as np\n",
    "import pandas as pd\n",
    "import altair as alt\n"
   ]
  },
  {
   "cell_type": "markdown",
   "id": "7c512c15-1d53-4d7c-8c67-32a029bd0495",
   "metadata": {},
   "source": [
    "Functions for importing user and finance data"
   ]
  },
  {
   "cell_type": "code",
   "execution_count": 2,
   "id": "4ebf5372-8ea5-4a9c-a679-353f610ffc09",
   "metadata": {},
   "outputs": [],
   "source": [
    "def read_data_users(file_path):\n",
    "    with open(file_path, 'r') as file:\n",
    "        lines = file.readlines()\n",
    "    \n",
    "    first_dimension = [lines[i].strip() for i in range(0, len(lines), 3)] # kwartał i rok\n",
    "    second_dimension = [float(lines[i].strip()) for i in range(1, len(lines), 3)] # liczba użytkowników\n",
    "    \n",
    "    return np.array(first_dimension), np.array(second_dimension)\n",
    "\n",
    "def read_data_finanse_pracownicy(file_path):\n",
    "    with open(file_path, 'r') as file:\n",
    "        lines = file.readlines()\n",
    "    # pierwsza liczba każdego wiersza to pierwszy wymiar, reszta to drugi wymiar\n",
    "    first_dimension = [lines[i].strip().split()[0] for i in range(0, len(lines))] # rok\n",
    "    second_dimension = [list(map(float, lines[i].strip().split()[1:])) for i in range(0, len(lines))] # przychod zysk zatrudnienie\n",
    "    return np.array(first_dimension), np.array(second_dimension)"
   ]
  },
  {
   "cell_type": "markdown",
   "id": "26b6494d-8549-4dc0-bb36-fc2d67548bac",
   "metadata": {},
   "source": [
    "Data import"
   ]
  },
  {
   "cell_type": "code",
   "execution_count": 3,
   "id": "99fe4623-0ad7-40d6-bc79-ad577a2ee56b",
   "metadata": {},
   "outputs": [],
   "source": [
    "users_path = './Uzytkownicy.txt'\n",
    "users_first_dim, users_second_dim = read_data_users(users_path)\n",
    "\n",
    "finance_path = './Finanse_Pracownicy.txt'\n",
    "finance_first_dim, finance_second_dim = read_data_finanse_pracownicy(finance_path)"
   ]
  },
  {
   "cell_type": "markdown",
   "id": "d41ecef9-1f53-4925-9a7f-3797f6f8b899",
   "metadata": {},
   "source": [
    "Visualisation of imported data"
   ]
  },
  {
   "cell_type": "code",
   "execution_count": 4,
   "id": "8a1e1667-5445-47b8-b72c-0cf0057f0b3d",
   "metadata": {},
   "outputs": [
    {
     "ename": "SchemaValidationError",
     "evalue": "'{'data': {'name': 'data-b44d189d42d857cd7241e1177be3c536'}}' is an invalid value.\n\n'mark' is a required property",
     "output_type": "error",
     "traceback": [
      "\u001b[1;31m---------------------------------------------------------------------------\u001b[0m",
      "\u001b[1;31mSchemaValidationError\u001b[0m                     Traceback (most recent call last)",
      "File \u001b[1;32mC:\\Python312\\Lib\\site-packages\\altair\\vegalite\\v5\\api.py:3778\u001b[0m, in \u001b[0;36mChart.to_dict\u001b[1;34m(self, validate, format, ignore, context)\u001b[0m\n\u001b[0;32m   3776\u001b[0m     copy\u001b[38;5;241m.\u001b[39mdata \u001b[38;5;241m=\u001b[39m core\u001b[38;5;241m.\u001b[39mInlineData(values\u001b[38;5;241m=\u001b[39m[{}])\n\u001b[0;32m   3777\u001b[0m     \u001b[38;5;28;01mreturn\u001b[39;00m \u001b[38;5;28msuper\u001b[39m(Chart, copy)\u001b[38;5;241m.\u001b[39mto_dict(\u001b[38;5;241m*\u001b[39m\u001b[38;5;241m*\u001b[39mkwds)\n\u001b[1;32m-> 3778\u001b[0m \u001b[38;5;28;01mreturn\u001b[39;00m \u001b[38;5;28;43msuper\u001b[39;49m\u001b[43m(\u001b[49m\u001b[43m)\u001b[49m\u001b[38;5;241;43m.\u001b[39;49m\u001b[43mto_dict\u001b[49m\u001b[43m(\u001b[49m\u001b[38;5;241;43m*\u001b[39;49m\u001b[38;5;241;43m*\u001b[39;49m\u001b[43mkwds\u001b[49m\u001b[43m)\u001b[49m\n",
      "File \u001b[1;32mC:\\Python312\\Lib\\site-packages\\altair\\vegalite\\v5\\api.py:1813\u001b[0m, in \u001b[0;36mTopLevelMixin.to_dict\u001b[1;34m(self, validate, format, ignore, context)\u001b[0m\n\u001b[0;32m   1808\u001b[0m context[\u001b[38;5;124m\"\u001b[39m\u001b[38;5;124mtop_level\u001b[39m\u001b[38;5;124m\"\u001b[39m] \u001b[38;5;241m=\u001b[39m \u001b[38;5;28;01mFalse\u001b[39;00m\n\u001b[0;32m   1810\u001b[0m \u001b[38;5;66;03m# TopLevelMixin instance does not necessarily have to_dict defined\u001b[39;00m\n\u001b[0;32m   1811\u001b[0m \u001b[38;5;66;03m# but due to how Altair is set up this should hold.\u001b[39;00m\n\u001b[0;32m   1812\u001b[0m \u001b[38;5;66;03m# Too complex to type hint right now\u001b[39;00m\n\u001b[1;32m-> 1813\u001b[0m vegalite_spec: Any \u001b[38;5;241m=\u001b[39m \u001b[38;5;28;43msuper\u001b[39;49m\u001b[43m(\u001b[49m\u001b[43mTopLevelMixin\u001b[49m\u001b[43m,\u001b[49m\u001b[43m \u001b[49m\u001b[43mcopy\u001b[49m\u001b[43m)\u001b[49m\u001b[38;5;241;43m.\u001b[39;49m\u001b[43mto_dict\u001b[49m\u001b[43m(\u001b[49m\u001b[43m  \u001b[49m\u001b[38;5;66;43;03m# type: ignore[misc]\u001b[39;49;00m\n\u001b[0;32m   1814\u001b[0m \u001b[43m    \u001b[49m\u001b[43mvalidate\u001b[49m\u001b[38;5;241;43m=\u001b[39;49m\u001b[43mvalidate\u001b[49m\u001b[43m,\u001b[49m\u001b[43m \u001b[49m\u001b[43mignore\u001b[49m\u001b[38;5;241;43m=\u001b[39;49m\u001b[43mignore\u001b[49m\u001b[43m,\u001b[49m\u001b[43m \u001b[49m\u001b[43mcontext\u001b[49m\u001b[38;5;241;43m=\u001b[39;49m\u001b[38;5;28;43mdict\u001b[39;49m\u001b[43m(\u001b[49m\u001b[43mcontext\u001b[49m\u001b[43m,\u001b[49m\u001b[43m \u001b[49m\u001b[43mpre_transform\u001b[49m\u001b[38;5;241;43m=\u001b[39;49m\u001b[38;5;28;43;01mFalse\u001b[39;49;00m\u001b[43m)\u001b[49m\n\u001b[0;32m   1815\u001b[0m \u001b[43m\u001b[49m\u001b[43m)\u001b[49m\n\u001b[0;32m   1817\u001b[0m \u001b[38;5;66;03m# TODO: following entries are added after validation. Should they be validated?\u001b[39;00m\n\u001b[0;32m   1818\u001b[0m \u001b[38;5;28;01mif\u001b[39;00m is_top_level:\n\u001b[0;32m   1819\u001b[0m     \u001b[38;5;66;03m# since this is top-level we add $schema if it's missing\u001b[39;00m\n",
      "File \u001b[1;32mC:\\Python312\\Lib\\site-packages\\altair\\utils\\schemapi.py:1076\u001b[0m, in \u001b[0;36mSchemaBase.to_dict\u001b[1;34m(self, validate, ignore, context)\u001b[0m\n\u001b[0;32m   1069\u001b[0m         \u001b[38;5;28mself\u001b[39m\u001b[38;5;241m.\u001b[39mvalidate(result)\n\u001b[0;32m   1070\u001b[0m     \u001b[38;5;28;01mexcept\u001b[39;00m jsonschema\u001b[38;5;241m.\u001b[39mValidationError \u001b[38;5;28;01mas\u001b[39;00m err:\n\u001b[0;32m   1071\u001b[0m         \u001b[38;5;66;03m# We do not raise `from err` as else the resulting\u001b[39;00m\n\u001b[0;32m   1072\u001b[0m         \u001b[38;5;66;03m# traceback is very long as it contains part\u001b[39;00m\n\u001b[0;32m   1073\u001b[0m         \u001b[38;5;66;03m# of the Vega-Lite schema. It would also first\u001b[39;00m\n\u001b[0;32m   1074\u001b[0m         \u001b[38;5;66;03m# show the less helpful ValidationError instead of\u001b[39;00m\n\u001b[0;32m   1075\u001b[0m         \u001b[38;5;66;03m# the more user friendly SchemaValidationError\u001b[39;00m\n\u001b[1;32m-> 1076\u001b[0m         \u001b[38;5;28;01mraise\u001b[39;00m SchemaValidationError(\u001b[38;5;28mself\u001b[39m, err) \u001b[38;5;28;01mfrom\u001b[39;00m \u001b[38;5;28;01mNone\u001b[39;00m\n\u001b[0;32m   1077\u001b[0m \u001b[38;5;28;01mreturn\u001b[39;00m result\n",
      "\u001b[1;31mSchemaValidationError\u001b[0m: '{'data': {'name': 'data-b44d189d42d857cd7241e1177be3c536'}}' is an invalid value.\n\n'mark' is a required property"
     ]
    },
    {
     "data": {
      "text/plain": [
       "alt.Chart(...)"
      ]
     },
     "execution_count": 4,
     "metadata": {},
     "output_type": "execute_result"
    }
   ],
   "source": [
    "pd.DataFrame(users_second_dim, index=users_first_dim, columns=['Liczba użytkowników'])\n",
    "pd.DataFrame(finance_second_dim, index=finance_first_dim, columns=['Przychód', 'Zysk', 'Zatrudnienie'])\n",
    "\n",
    "users_chart = alt.Chart(pd.DataFrame(users_second_dim, index=users_first_dim, columns=['Liczba użytkowników']))\n",
    "finance_chart = alt.Chart(pd.DataFrame(finance_second_dim, index=finance_first_dim, columns=['Przychód', 'Zysk', 'Zatrudnienie']))\n",
    "\n",
    "users_chart.mark_line().encode(x=alt.X(users_first_dim, type='ordinal'), y='Liczba użytkowników')\n",
    "#prezentacja danych finansowych\n",
    "finance_chart.mark_line().encode(x=alt.X(finance_first_dim, type='ordinal'), y='Przychód')\n",
    "finance_chart.mark_line().encode(x=alt.X(finance_first_dim, type='ordinal'), y='Zysk')\n",
    "finance_chart.mark_line().encode(x=alt.X(finance_first_dim, type='ordinal'), y='Zatrudnienie')\n",
    "#wyświetlanie\n",
    "users_chart\n",
    "finance_chart"
   ]
  }
 ],
 "metadata": {
  "kernelspec": {
   "display_name": "Python 3 (ipykernel)",
   "language": "python",
   "name": "python3"
  },
  "language_info": {
   "codemirror_mode": {
    "name": "ipython",
    "version": 3
   },
   "file_extension": ".py",
   "mimetype": "text/x-python",
   "name": "python",
   "nbconvert_exporter": "python",
   "pygments_lexer": "ipython3",
   "version": "3.12.0"
  }
 },
 "nbformat": 4,
 "nbformat_minor": 5
}
